{
 "cells": [
  {
   "cell_type": "code",
   "execution_count": 2,
   "id": "041143b7",
   "metadata": {},
   "outputs": [
    {
     "name": "stdout",
     "output_type": "stream",
     "text": [
      "Enter the radius5\n",
      "The area is 78.53981633974483\n"
     ]
    }
   ],
   "source": [
    "#Write a Python program which accepts the radius of a circle from the user and compute the area\n",
    "\n",
    "from math import pi\n",
    "r=eval(input(\"Enter the radius\"))\n",
    "Area=pi*r**2\n",
    "print(\"The area is\", Area)\n"
   ]
  },
  {
   "cell_type": "code",
   "execution_count": 17,
   "id": "5ec20b72",
   "metadata": {},
   "outputs": [
    {
     "name": "stdout",
     "output_type": "stream",
     "text": [
      "Enter first nameShaan \n",
      "Enter last nameGunwani\n",
      "Hello Gunwani Shaan \n"
     ]
    }
   ],
   "source": [
    "#Write a Python program which accepts the user's first and last name and print them in reverse order with a space between them\n",
    "\n",
    "aname=input(\"Enter first name\")\n",
    "bname=input(\"Enter last name\")\n",
    "print(\"Hello\", bname + \" \" + aname)\n"
   ]
  },
  {
   "cell_type": "code",
   "execution_count": 18,
   "id": "b4ac0eff",
   "metadata": {},
   "outputs": [
    {
     "name": "stdout",
     "output_type": "stream",
     "text": [
      "red Black\n"
     ]
    }
   ],
   "source": [
    "#Write a Python program to display the first and last colors from the following list. color_list = [\"Red\",\"Green\",\"White\",\"Black\"]\n",
    "\n",
    "color_list = [\"red\", \"Green\",\"White\", \"Black\"]\n",
    "print(\"%s %s\" %(color_list[0], color_list[3]))\n"
   ]
  },
  {
   "cell_type": "code",
   "execution_count": 19,
   "id": "32e6c8cc",
   "metadata": {},
   "outputs": [
    {
     "name": "stdout",
     "output_type": "stream",
     "text": [
      "Input an integer : 5\n",
      "615\n"
     ]
    }
   ],
   "source": [
    "#Write a Python program that accepts an integer (n) and computes the value of n+nn+nnn\n",
    "\n",
    "a = int(input(\"Input an integer : \"))\n",
    "n1 = int( \"%s\" % a )\n",
    "n2 = int( \"%s%s\" % (a,a) )\n",
    "n3 = int( \"%s%s%s\" % (a,a,a) )\n",
    "print (n1+n2+n3)\n"
   ]
  },
  {
   "cell_type": "code",
   "execution_count": 20,
   "id": "6b449cf0",
   "metadata": {},
   "outputs": [
    {
     "name": "stdout",
     "output_type": "stream",
     "text": [
      "Volume of sphere is 904.7786842338603\n",
      "10\n",
      "3\n"
     ]
    }
   ],
   "source": [
    "#Write a Python program to get the volume of a sphere with radius 6. The volume of the sphere is : V = 4/3 × π × r3 = π × d3/6.\n",
    "\n",
    "from math import pi\n",
    "r=6\n",
    "Volume = 4/3 * pi * r**3\n",
    "print(\"Volume of sphere is\", Volume)\n",
    "def difference(n):\n",
    "    if n <= 17:\n",
    "        return 17 - n\n",
    "    else:\n",
    "        return (n - 17) * 2\n",
    "print(difference(22))\n",
    "print(difference(14))\n"
   ]
  },
  {
   "cell_type": "code",
   "execution_count": 21,
   "id": "28574c3c",
   "metadata": {},
   "outputs": [
    {
     "name": "stdout",
     "output_type": "stream",
     "text": [
      "Enter a number5\n",
      "12\n"
     ]
    }
   ],
   "source": [
    "#Write a Python program to get the difference between a given number and 17, if the number is greater than 17 return double the absolute difference.\n",
    "\n",
    "num=int(input(\"Enter a number\"))\n",
    "if num <= 17:\n",
    "    print (17-num)\n",
    "else:\n",
    "    print((num-17)*2)\n"
   ]
  },
  {
   "cell_type": "code",
   "execution_count": 23,
   "id": "cb5b4ce4",
   "metadata": {},
   "outputs": [
    {
     "name": "stdout",
     "output_type": "stream",
     "text": [
      "6\n",
      "27\n"
     ]
    }
   ],
   "source": [
    "#Write a Python program to calculate the sum of three given numbers, if the values are equal then return thrice of their sum.\n",
    "\n",
    "def sum_thrice(x, y, z):\n",
    "    sum = x + y + z\n",
    "    if x == y == z:\n",
    "        sum = sum * 3\n",
    "    return sum\n",
    "print(sum_thrice(1, 2, 3))\n",
    "print(sum_thrice(3, 3, 3))\n"
   ]
  },
  {
   "cell_type": "code",
   "execution_count": 24,
   "id": "a987d0bb",
   "metadata": {},
   "outputs": [
    {
     "name": "stdout",
     "output_type": "stream",
     "text": [
      "Enter a number: 5\n",
      "This is an odd number.\n"
     ]
    }
   ],
   "source": [
    "# Write a Python program to find whether a given number (accept from the user) is even or odd, print out an appropriate message to the user.\n",
    "\n",
    "num = int(input(\"Enter a number: \"))\n",
    "mod = num % 2\n",
    "if mod > 0:\n",
    "    print(\"This is an odd number.\")\n",
    "else:\n",
    "    print(\"This is an even number.\")\n"
   ]
  },
  {
   "cell_type": "code",
   "execution_count": 55,
   "id": "20156ee1",
   "metadata": {},
   "outputs": [
    {
     "name": "stdout",
     "output_type": "stream",
     "text": [
      "Input a letter of the alphabet: E\n",
      "E is a vowel.\n"
     ]
    }
   ],
   "source": [
    "#Write a Python program to test whether a letter is a vowel or not.\n",
    "\n",
    "l = input(\"Input a letter of the alphabet: \")\n",
    "\n",
    "if l in ('a', 'A','e', 'E','I','i', 'O', 'o','U', 'u'):\n",
    "      print(\"%s is a vowel.\" % l)\n",
    "else:\n",
    "    print(\"%s is not a vowel.\" % l)\n",
    "\n",
    "\n"
   ]
  },
  {
   "cell_type": "code",
   "execution_count": 34,
   "id": "33cc7669",
   "metadata": {},
   "outputs": [
    {
     "name": "stdout",
     "output_type": "stream",
     "text": [
      "Enter values11,12,13,14\n",
      "Enter specified value14\n",
      "the specified value is contained in the group of values\n"
     ]
    }
   ],
   "source": [
    "#Write a Python program to check whether a specified value is contained in a group of values.\n",
    "a=eval(input(\"Enter values\"))\n",
    "b=eval(input(\"Enter specified value\"))\n",
    "if b in a:\n",
    "    print(\"the specified value is contained in the group of values\")\n",
    "else:\n",
    "    print(\"the specified value is not contained in the group of values\")\n"
   ]
  },
  {
   "cell_type": "code",
   "execution_count": 37,
   "id": "7004fdcc",
   "metadata": {
    "scrolled": false
   },
   "outputs": [
    {
     "name": "stdout",
     "output_type": "stream",
     "text": [
      "**********\n",
      "*********\n",
      "****\n",
      "*******\n"
     ]
    }
   ],
   "source": [
    "#Write a Python program to create a histogram from a given list of integers.\n",
    "def histogram( items ):\n",
    "    for n in items:\n",
    "        output = ''\n",
    "        times = n\n",
    "        while( times > 0 ):\n",
    "          output += '*'\n",
    "          times = times - 1\n",
    "        print(output)\n",
    "histogram([10, 9, 4, 7])\n"
   ]
  },
  {
   "cell_type": "code",
   "execution_count": 38,
   "id": "f87a9e82",
   "metadata": {},
   "outputs": [
    {
     "name": "stdout",
     "output_type": "stream",
     "text": [
      "386  462  418  344  236  566  978  328  162  758  918  412  566  826  248  866  950  626  104  58  512  24  892  894  742  958  "
     ]
    }
   ],
   "source": [
    "#Write a Python program to print all even numbers from a given numbers list in the same order. Sample numbers list : numbers = [  386, 462, 47, 418, 907, 344, 236, 375, 823, 566, 597, 978, 328, 615, 953, 345,  399, 162, 758, 219, 918, 237, 412, 566, 826, 248, 866, 950, 626, 949, 687, 217,  815, 67, 104, 58, 512, 24, 892, 894, 767, 553, 81, 379, 843, 831, 445, 742, 717, 958,743, 527 ]\n",
    "\n",
    "list1 = (386, 462, 47, 418, 907, 344, 236, 375, 823, 566, 597, 978, 328, 615, 953, 345, 399, 162, 758, 219, 918, 237, 412, 566, 826, 248, 866, 950, 626, 949, 687, 217,  815, 67, 104, 58, 512, 24, 892, 894, 767, 553, 81, 379, 843, 831, 445, 742, 717,  958,743, 527)\n",
    "for num in list1:\n",
    "    if num % 2 == 0:\n",
    "        print (num, end=\"  \")\n"
   ]
  },
  {
   "cell_type": "code",
   "execution_count": 39,
   "id": "ac6dff16",
   "metadata": {},
   "outputs": [
    {
     "name": "stdout",
     "output_type": "stream",
     "text": [
      "Enter the base value2\n",
      "Enter the height value3\n",
      "Area of Triangle 3.0\n"
     ]
    }
   ],
   "source": [
    "#Write a Python program that will accept the base and height of a triangle and compute the area.\n",
    "\n",
    "b = eval(input(\"Enter the base value\"))\n",
    "h = eval(input(\"Enter the height value\"))\n",
    "Area = 1/2 * b * h\n",
    "print('Area of Triangle', Area)\n"
   ]
  },
  {
   "cell_type": "code",
   "execution_count": 40,
   "id": "1c159a06",
   "metadata": {},
   "outputs": [
    {
     "name": "stdout",
     "output_type": "stream",
     "text": [
      "The L.C.M. is 216\n"
     ]
    }
   ],
   "source": [
    "#Write a Python program to get the least common multiple (LCM) of two positive integers.\n",
    "\n",
    "def compute_lcm(x, y):\n",
    "   if x > y:\n",
    "       greater = x\n",
    "   else:\n",
    "       greater = y\n",
    "   while(True):\n",
    "       if((greater % x == 0) and (greater % y == 0)):\n",
    "           lcm = greater\n",
    "           break\n",
    "       greater += 1\n",
    "   return lcm\n",
    "num1 = 54\n",
    "num2 = 24\n",
    "print(\"The L.C.M. is\", compute_lcm(num1, num2))\n"
   ]
  },
  {
   "cell_type": "code",
   "execution_count": 42,
   "id": "e4567525",
   "metadata": {},
   "outputs": [
    {
     "name": "stdout",
     "output_type": "stream",
     "text": [
      "Enter first integer3\n",
      "Enter second integer4\n",
      "Enter third integer22\n",
      "Sum is 29\n"
     ]
    }
   ],
   "source": [
    "#Write a Python program to sum of three given integers. However, if two values are equal sum will be zero.\n",
    "\n",
    "num1=int(input(\"Enter first integer\"))\n",
    "num2=int(input(\"Enter second integer\"))\n",
    "num3=int(input(\"Enter third integer\"))\n",
    "if num1 == num2:\n",
    "    print(\" Sum is zero\")\n",
    "elif num2 == num3:\n",
    "    print(\"Sum is zero\")\n",
    "elif num1==num3:\n",
    "    print(\"Sum is zero\")\n",
    "else:\n",
    "    Sum=num1+num2+num3\n",
    "    print(\"Sum is\", Sum)\n",
    "\n"
   ]
  },
  {
   "cell_type": "code",
   "execution_count": 43,
   "id": "3a4e4455",
   "metadata": {},
   "outputs": [
    {
     "name": "stdout",
     "output_type": "stream",
     "text": [
      "Enter x value3\n",
      "Enter y value4\n",
      "Output is 49\n"
     ]
    }
   ],
   "source": [
    "#Write a Python program to solve (x + y) * (x + y).\n",
    "\n",
    "x=eval(input(\"Enter x value\"))\n",
    "y=eval(input(\"Enter y value\"))\n",
    "Formula = (x + y) * (x + y)\n",
    "print(\"Output is\", Formula)\n"
   ]
  },
  {
   "cell_type": "code",
   "execution_count": 44,
   "id": "dc4ff290",
   "metadata": {},
   "outputs": [
    {
     "name": "stdout",
     "output_type": "stream",
     "text": [
      "Enter amt10000\n",
      "Enter interest3.5\n",
      "Enter Number of Years7\n",
      "The future value is 12722.792627665729\n"
     ]
    }
   ],
   "source": [
    "#Write a Python program to compute the future value of a specified principal amount, rate of interest, and a number of years.\n",
    "\n",
    "PrincipleAmount = eval(input(\"Enter amt\"))\n",
    "RateOfInterest = eval(input(\"Enter interest\"))\n",
    "NumberOfYears = eval(input(\"Enter Number of Years\"))\n",
    "FutureValue = PrincipleAmount*((1 + RateOfInterest/100)**(1*NumberOfYears))\n",
    "print('The future value is', FutureValue)\n"
   ]
  },
  {
   "cell_type": "code",
   "execution_count": 45,
   "id": "ed77d435",
   "metadata": {},
   "outputs": [
    {
     "name": "stdout",
     "output_type": "stream",
     "text": [
      "Enter x13\n",
      "Enter x22\n",
      "Enter y13\n",
      "Enter y22\n",
      "1.0\n",
      "1.0\n",
      "1.4142135623730951\n",
      "The Distance Between Two Points = 1.4142135623730951 Units\n"
     ]
    }
   ],
   "source": [
    "#Write a Python program to compute the distance between the points (x1, y1) and (x2, y2).\n",
    "\n",
    "import math\n",
    "x1=int(input(\"Enter x1\"))\n",
    "x2=int(input(\"Enter x2\"))\n",
    "y1=int(input(\"Enter y1\"))\n",
    "y2=int(input(\"Enter y2\"))\n",
    "x=math.pow((x2-x1),2)\n",
    "y=math.pow((y2-y1),2)\n",
    "print(x)\n",
    "print(y)\n",
    "print(math.sqrt(x + y))\n",
    "distance = math.sqrt(x + y)\n",
    "print('The Distance Between Two Points = {0} Units'.format(distance))\n"
   ]
  },
  {
   "cell_type": "code",
   "execution_count": 46,
   "id": "fa28bae4",
   "metadata": {},
   "outputs": [
    {
     "name": "stdout",
     "output_type": "stream",
     "text": [
      "Input a number: 5\n",
      "Sum of the first 5 positive integers: 15.0\n"
     ]
    }
   ],
   "source": [
    "#Write a python program to sum of the first n positive integers.\n",
    "\n",
    "n = int(input(\"Input a number: \"))\n",
    "sum_num = (n * (n + 1)) / 2\n",
    "print(\"Sum of the first\", n ,\"positive integers:\", sum_num)\n"
   ]
  },
  {
   "cell_type": "code",
   "execution_count": 48,
   "id": "1b91767b",
   "metadata": {},
   "outputs": [
    {
     "name": "stdout",
     "output_type": "stream",
     "text": [
      "Input height:\n",
      "Feet:5\n",
      "Inches:6\n",
      "Height is : 167 cm.\n"
     ]
    }
   ],
   "source": [
    "#Write a Python program to convert height (in feet and inches) to centimeters.\n",
    "\n",
    "print(\"Input height:\")\n",
    "h_feet = eval(input(\"Feet:\"))\n",
    "h_inches = eval(input(\"Inches:\"))\n",
    "h_inches += h_feet*12\n",
    "h_cm = round(h_inches * 2.54, 1)\n",
    "print(\"Height is : %d cm.\" % h_cm)\n"
   ]
  },
  {
   "cell_type": "code",
   "execution_count": 50,
   "id": "b68bc885",
   "metadata": {},
   "outputs": [
    {
     "name": "stdout",
     "output_type": "stream",
     "text": [
      "Enter length of shorter triangle sides:\n",
      "a:5\n",
      "b:8\n",
      "Hypotenuse length is: 9.433981132056603\n"
     ]
    }
   ],
   "source": [
    "#Write a Python program to calculate the hypotenuse of a right angled triangle.\n",
    "\n",
    "from math import sqrt\n",
    "print (\"Enter length of shorter triangle sides:\")\n",
    "a=eval(input(\"a:\"))\n",
    "b=eval(input(\"b:\"))\n",
    "c = sqrt(a**2 + b**2)\n",
    "print(\"Hypotenuse length is:\", c)\n"
   ]
  },
  {
   "cell_type": "code",
   "execution_count": 51,
   "id": "def2dd95",
   "metadata": {},
   "outputs": [
    {
     "name": "stdout",
     "output_type": "stream",
     "text": [
      "Input height in meters:12\n",
      "INput weight in kilograms:45\n",
      "BMI is 0.3125\n"
     ]
    }
   ],
   "source": [
    "#Write a Python program to calculate body mass index.\n",
    "\n",
    "\n",
    "from math import sqrt\n",
    "height=eval(input(\"Input height in meters:\"))\n",
    "weight=eval(input(\"INput weight in kilograms:\"))\n",
    "BMI=weight/height**2\n",
    "print (\"BMI is\", BMI)\n"
   ]
  },
  {
   "cell_type": "code",
   "execution_count": 52,
   "id": "1df223e3",
   "metadata": {},
   "outputs": [
    {
     "name": "stdout",
     "output_type": "stream",
     "text": [
      "Enter x1 value:5\n",
      "Enter x2 value:4\n",
      "Enter y1 value:2\n",
      "Enter y2 value:1\n",
      "The midpoints of the line is (4.5, 1.5)\n"
     ]
    }
   ],
   "source": [
    "#Write a Python program to calculate midpoints of a line.\n",
    "\n",
    "x1=eval(input(\"Enter x1 value:\"))\n",
    "x2=eval(input(\"Enter x2 value:\"))\n",
    "y1=eval(input('Enter y1 value:'))\n",
    "y2=eval(input(\"Enter y2 value:\"))\n",
    "Midpoint = ((x1+x2)/2 , (y1+y2)/2)\n",
    "print(\"The midpoints of the line is\", Midpoint)\n"
   ]
  },
  {
   "cell_type": "code",
   "execution_count": 53,
   "id": "b0b8c8ae",
   "metadata": {},
   "outputs": [
    {
     "name": "stdout",
     "output_type": "stream",
     "text": [
      "[2002, 2009, 2016, 2023, 2037, 2044, 2051, 2058, 2072, 2079, 2086, 2093, 2107, 2114, 2121, 2128, 2142, 2149, 2156, 2163, 2177, 2184, 2191, 2198, 2212, 2219, 2226, 2233, 2247, 2254, 2261, 2268, 2282, 2289, 2296, 2303, 2317, 2324, 2331, 2338, 2352, 2359, 2366, 2373, 2387, 2394, 2401, 2408, 2422, 2429, 2436, 2443, 2457, 2464, 2471, 2478, 2492, 2499, 2506, 2513, 2527, 2534, 2541, 2548, 2562, 2569, 2576, 2583, 2597, 2604, 2611, 2618, 2632, 2639, 2646, 2653, 2667, 2674, 2681, 2688, 2702, 2709, 2716, 2723, 2737, 2744, 2751, 2758, 2772, 2779, 2786, 2793, 2807, 2814, 2821, 2828, 2842, 2849, 2856, 2863, 2877, 2884, 2891, 2898, 2912, 2919, 2926, 2933, 2947, 2954, 2961, 2968, 2982, 2989, 2996, 3003, 3017, 3024, 3031, 3038, 3052, 3059, 3066, 3073, 3087, 3094, 3101, 3108, 3122, 3129, 3136, 3143, 3157, 3164, 3171, 3178, 3192, 3199]\n"
     ]
    }
   ],
   "source": [
    "#Write a program which will find all such numbers which are divisible by 7 but are not a multiple of 5, between 2000 and 3200 (both included). The numbers obtained should be printed in a comma-separated sequence on a single line.\n",
    "\n",
    "a= []\n",
    "for i in range (2000,3200,1):\n",
    "    if((i%7==0)and (i%5!= 0)):\n",
    "        a.append(i)\n",
    "print(a)\n"
   ]
  },
  {
   "cell_type": "code",
   "execution_count": null,
   "id": "9dcf9392",
   "metadata": {},
   "outputs": [],
   "source": []
  }
 ],
 "metadata": {
  "kernelspec": {
   "display_name": "Python 3 (ipykernel)",
   "language": "python",
   "name": "python3"
  },
  "language_info": {
   "codemirror_mode": {
    "name": "ipython",
    "version": 3
   },
   "file_extension": ".py",
   "mimetype": "text/x-python",
   "name": "python",
   "nbconvert_exporter": "python",
   "pygments_lexer": "ipython3",
   "version": "3.9.12"
  }
 },
 "nbformat": 4,
 "nbformat_minor": 5
}
